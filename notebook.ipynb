{
 "cells": [
  {
   "cell_type": "markdown",
   "metadata": {},
   "source": [
    "# SpaceTomo Refactor"
   ]
  },
  {
   "cell_type": "code",
   "execution_count": null,
   "metadata": {},
   "outputs": [],
   "source": [
    "%load_ext autoreload\n",
    "%autoreload 2\n",
    "\n",
    "from spacetomo.SPACEtomo_nnUNet import run_inference_pipeline\n",
    "\n",
    "import glob\n",
    "import os\n",
    "\n",
    "PATH = \"/home/patrick/github/data/spacetomo/clean/SPACEtomo_lamella_segmentation/imagesTr/\"\n",
    "\n",
    "filenames = glob.glob(os.path.join(PATH, \"*.png\"))\n",
    "\n",
    "print(f\"Found {len(filenames)} files\")"
   ]
  },
  {
   "cell_type": "code",
   "execution_count": null,
   "metadata": {},
   "outputs": [],
   "source": [
    "for i, fname in enumerate(filenames):\n",
    "    print(\"-\"*80)\n",
    "    print(f\"Processing {i} - {fname}\")\n",
    "    run_inference_pipeline(fname)\n",
    "    print(f\"Done processing {fname}\")"
   ]
  },
  {
   "cell_type": "code",
   "execution_count": null,
   "metadata": {},
   "outputs": [],
   "source": []
  }
 ],
 "metadata": {
  "kernelspec": {
   "display_name": "SerialEM_pytorch",
   "language": "python",
   "name": "python3"
  },
  "language_info": {
   "codemirror_mode": {
    "name": "ipython",
    "version": 3
   },
   "file_extension": ".py",
   "mimetype": "text/x-python",
   "name": "python",
   "nbconvert_exporter": "python",
   "pygments_lexer": "ipython3",
   "version": "3.9.18"
  }
 },
 "nbformat": 4,
 "nbformat_minor": 2
}
